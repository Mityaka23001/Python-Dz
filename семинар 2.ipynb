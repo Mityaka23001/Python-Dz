{
 "cells": [
  {
   "cell_type": "markdown",
   "metadata": {},
   "source": [
    "## Задания по семинару 2"
   ]
  },
  {
   "cell_type": "markdown",
   "metadata": {},
   "source": [
    "В ячеке под заданием приведите его решение. Для заданий, рассмотренных на семинаре, можете использовать решение полученное на занятии."
   ]
  },
  {
   "cell_type": "markdown",
   "metadata": {},
   "source": [
    "-----"
   ]
  },
  {
   "cell_type": "markdown",
   "metadata": {},
   "source": [
    "0) Получить переменную, содержащую строку со значением равным двум в одиннадцатой степени и вывести ее на экран."
   ]
  },
  {
   "cell_type": "code",
   "execution_count": 2,
   "metadata": {
    "collapsed": true
   },
   "outputs": [],
   "source": [
    "a=2**11"
   ]
  },
  {
   "cell_type": "code",
   "execution_count": 3,
   "metadata": {
    "collapsed": false
   },
   "outputs": [
    {
     "data": {
      "text/plain": [
       "2048"
      ]
     },
     "execution_count": 3,
     "metadata": {},
     "output_type": "execute_result"
    }
   ],
   "source": [
    "a"
   ]
  },
  {
   "cell_type": "markdown",
   "metadata": {},
   "source": [
    "1) Наибольшим количеством способов создать строковую переменную, содержащую текст:"
   ]
  },
  {
   "cell_type": "raw",
   "metadata": {},
   "source": [
    "It's \"quoted string\"\n"
   ]
  },
  {
   "cell_type": "code",
   "execution_count": 52,
   "metadata": {
    "collapsed": false
   },
   "outputs": [
    {
     "name": "stdout",
     "output_type": "stream",
     "text": [
      "It 's \"quoted string\"\n"
     ]
    }
   ],
   "source": [
    "print('It \\'s \"quoted string\"')\n",
    "\n"
   ]
  },
  {
   "cell_type": "code",
   "execution_count": 53,
   "metadata": {
    "collapsed": false
   },
   "outputs": [
    {
     "name": "stdout",
     "output_type": "stream",
     "text": [
      "It's \"quoted string\"\n"
     ]
    }
   ],
   "source": [
    "print(\"It's \\\"quoted string\\\"\")\n",
    "\n"
   ]
  },
  {
   "cell_type": "code",
   "execution_count": 54,
   "metadata": {
    "collapsed": false
   },
   "outputs": [
    {
     "name": "stdout",
     "output_type": "stream",
     "text": [
      " It's \"quoted string\" \n"
     ]
    }
   ],
   "source": [
    "print(''' It's \"quoted string\" ''')\n"
   ]
  },
  {
   "cell_type": "markdown",
   "metadata": {},
   "source": [
    "2) Наибольшим количеством способов создать строковую переменную, содержащую текст:"
   ]
  },
  {
   "cell_type": "raw",
   "metadata": {},
   "source": [
    "line1\n",
    "line2\n",
    "line3"
   ]
  },
  {
   "cell_type": "code",
   "execution_count": 60,
   "metadata": {
    "collapsed": false
   },
   "outputs": [
    {
     "data": {
      "text/plain": [
       "['line1 ', 'line2', 'line3']"
      ]
     },
     "execution_count": 60,
     "metadata": {},
     "output_type": "execute_result"
    }
   ],
   "source": [
    "sw = \"line1 \\nline2\\nline3\" \n",
    "sw.split(\"\\n\") \n"
   ]
  },
  {
   "cell_type": "code",
   "execution_count": 61,
   "metadata": {
    "collapsed": false
   },
   "outputs": [
    {
     "data": {
      "text/plain": [
       "['line1', 'line2', 'line3']"
      ]
     },
     "execution_count": 61,
     "metadata": {},
     "output_type": "execute_result"
    }
   ],
   "source": [
    "sw = \"line1 line2 line3\" \n",
    "sw.split() "
   ]
  },
  {
   "cell_type": "code",
   "execution_count": 63,
   "metadata": {
    "collapsed": false
   },
   "outputs": [
    {
     "data": {
      "text/plain": [
       "['line1', 'line2', 'line3']"
      ]
     },
     "execution_count": 63,
     "metadata": {},
     "output_type": "execute_result"
    }
   ],
   "source": [
    "'line1\\nline2\\nline3'.splitlines()"
   ]
  },
  {
   "cell_type": "markdown",
   "metadata": {},
   "source": [
    "3) Наибольшим количеством способов создать строковую переменную, содержащую текст:"
   ]
  },
  {
   "cell_type": "raw",
   "metadata": {},
   "source": [
    "\\\\\\\\\n",
    "\n",
    "\\\\\\\n",
    "\n",
    "\\\\\n",
    "\n",
    "\\"
   ]
  },
  {
   "cell_type": "code",
   "execution_count": 59,
   "metadata": {
    "collapsed": false
   },
   "outputs": [
    {
     "name": "stdout",
     "output_type": "stream",
     "text": [
      " \\\\\\\\ \n",
      " \\\\\\ \n",
      " \\ \n",
      " \\ \n"
     ]
    }
   ],
   "source": [
    "a=' \\\\\\\\\\\\\\ \\n \\\\\\\\\\ \\n \\\\ \\n \\ ' \n",
    "print(a)"
   ]
  },
  {
   "cell_type": "markdown",
   "metadata": {},
   "source": [
    "4) Вывести 5й с начала и 5й с конца символ из строки 'Hello world'"
   ]
  },
  {
   "cell_type": "code",
   "execution_count": 48,
   "metadata": {
    "collapsed": false
   },
   "outputs": [
    {
     "data": {
      "text/plain": [
       "'o'"
      ]
     },
     "execution_count": 48,
     "metadata": {},
     "output_type": "execute_result"
    }
   ],
   "source": [
    "n='Hello world'\n",
    "n[4]"
   ]
  },
  {
   "cell_type": "markdown",
   "metadata": {},
   "source": [
    "5) Двумя способами получить символ 'w' из строки 'Hello world'"
   ]
  },
  {
   "cell_type": "code",
   "execution_count": 49,
   "metadata": {
    "collapsed": false
   },
   "outputs": [
    {
     "data": {
      "text/plain": [
       "'w'"
      ]
     },
     "execution_count": 49,
     "metadata": {},
     "output_type": "execute_result"
    }
   ],
   "source": [
    "n='Hello world'\n",
    "n[-5]"
   ]
  },
  {
   "cell_type": "markdown",
   "metadata": {},
   "source": [
    "6) Вывести символ, находящийся в середине заранее неизвестной строки, полученной с помощью функции input().\n",
    "\n",
    "Пример использования функции input:"
   ]
  },
  {
   "cell_type": "code",
   "execution_count": 1,
   "metadata": {
    "collapsed": false
   },
   "outputs": [
    {
     "name": "stdout",
     "output_type": "stream",
     "text": [
      "\n"
     ]
    }
   ],
   "source": [
    "# поместить строку, введенную пользователем, в переменную st\n",
    "st = input()"
   ]
  },
  {
   "cell_type": "markdown",
   "metadata": {},
   "source": [
    "7) Для строки 'Light ray' двумя способами получить подстроку с 1го по 4й символы включительно."
   ]
  },
  {
   "cell_type": "code",
   "execution_count": 51,
   "metadata": {
    "collapsed": false
   },
   "outputs": [
    {
     "data": {
      "text/plain": [
       "'ligh'"
      ]
     },
     "execution_count": 51,
     "metadata": {},
     "output_type": "execute_result"
    }
   ],
   "source": [
    "n='lightray'\n",
    "n[0:4]"
   ]
  },
  {
   "cell_type": "markdown",
   "metadata": {},
   "source": [
    "8) Для строки 'My new text' двумя способами получить подстроку с 3го по 7й символы включительно."
   ]
  },
  {
   "cell_type": "code",
   "execution_count": 54,
   "metadata": {
    "collapsed": false
   },
   "outputs": [
    {
     "data": {
      "text/plain": [
       "' new'"
      ]
     },
     "execution_count": 54,
     "metadata": {},
     "output_type": "execute_result"
    }
   ],
   "source": [
    "n='My new text'\n",
    "n[2:6]\n"
   ]
  },
  {
   "cell_type": "markdown",
   "metadata": {},
   "source": [
    "9) Получить подстроку из последних 4х символов строки 'Light ray'."
   ]
  },
  {
   "cell_type": "code",
   "execution_count": 56,
   "metadata": {
    "collapsed": false
   },
   "outputs": [
    {
     "data": {
      "text/plain": [
       "' ray'"
      ]
     },
     "execution_count": 56,
     "metadata": {},
     "output_type": "execute_result"
    }
   ],
   "source": [
    "n='light ray'\n",
    "n[-4:]"
   ]
  },
  {
   "cell_type": "markdown",
   "metadata": {},
   "source": [
    "10) Составить строку из всех четных символов строки 'Light ray'."
   ]
  },
  {
   "cell_type": "code",
   "execution_count": 65,
   "metadata": {
    "collapsed": false
   },
   "outputs": [
    {
     "data": {
      "text/plain": [
       "'ih a'"
      ]
     },
     "execution_count": 65,
     "metadata": {},
     "output_type": "execute_result"
    }
   ],
   "source": [
    "n='light ray'\n",
    "n[1::2]"
   ]
  },
  {
   "cell_type": "markdown",
   "metadata": {},
   "source": [
    "11) Составить строку из всех нечетных символов строки 'Light ray'."
   ]
  },
  {
   "cell_type": "code",
   "execution_count": 66,
   "metadata": {
    "collapsed": false
   },
   "outputs": [
    {
     "data": {
      "text/plain": [
       "'lgtry'"
      ]
     },
     "execution_count": 66,
     "metadata": {},
     "output_type": "execute_result"
    }
   ],
   "source": [
    "n='light ray'\n",
    "n[::2]"
   ]
  },
  {
   "cell_type": "markdown",
   "metadata": {},
   "source": [
    "12) Инвертировать (получить строку с обратной последовательностью символо) строку  'Light ray'."
   ]
  },
  {
   "cell_type": "code",
   "execution_count": 67,
   "metadata": {
    "collapsed": false
   },
   "outputs": [
    {
     "data": {
      "text/plain": [
       "'yar thgil'"
      ]
     },
     "execution_count": 67,
     "metadata": {},
     "output_type": "execute_result"
    }
   ],
   "source": [
    "n='light ray'\n",
    "n[::-1]"
   ]
  },
  {
   "cell_type": "markdown",
   "metadata": {},
   "source": [
    "13) Вывести c третьего с начала до предпоследнего символа заранее низвестной строки, полученной с помощью функции input()."
   ]
  },
  {
   "cell_type": "code",
   "execution_count": 69,
   "metadata": {
    "collapsed": false
   },
   "outputs": [
    {
     "name": "stdout",
     "output_type": "stream",
     "text": [
      "hgjdyttryr\n"
     ]
    },
    {
     "data": {
      "text/plain": [
       "'jdyttry'"
      ]
     },
     "execution_count": 69,
     "metadata": {},
     "output_type": "execute_result"
    }
   ],
   "source": [
    "st = input()\n",
    "st[2:-1]"
   ]
  },
  {
   "cell_type": "markdown",
   "metadata": {},
   "source": [
    "14) Получить подстроку неизвестной заранее строки, содержащую половину символов строки и расположенную по середине строки."
   ]
  },
  {
   "cell_type": "code",
   "execution_count": 88,
   "metadata": {
    "collapsed": false
   },
   "outputs": [
    {
     "name": "stdout",
     "output_type": "stream",
     "text": [
      "asdf\n"
     ]
    },
    {
     "data": {
      "text/plain": [
       "'f'"
      ]
     },
     "execution_count": 88,
     "metadata": {},
     "output_type": "execute_result"
    }
   ],
   "source": [
    "st = input()\n",
    "hh=(len(st)-len(st)%4)\n",
    "v=hh-1\n",
    "m=hh*3-1\n",
    "st[v:m:1]"
   ]
  },
  {
   "cell_type": "markdown",
   "metadata": {},
   "source": [
    "15) Проверить, содержит ли произвольная строка, прочитанная в обратную сторону последовательность 'eno' "
   ]
  },
  {
   "cell_type": "code",
   "execution_count": 89,
   "metadata": {
    "collapsed": false
   },
   "outputs": [
    {
     "name": "stdout",
     "output_type": "stream",
     "text": [
      "asdheno\n"
     ]
    },
    {
     "data": {
      "text/plain": [
       "True"
      ]
     },
     "execution_count": 89,
     "metadata": {},
     "output_type": "execute_result"
    }
   ],
   "source": [
    "st = input()\n",
    "st[::-1]\n",
    "'eno' in st"
   ]
  },
  {
   "cell_type": "markdown",
   "metadata": {},
   "source": [
    "16) Получить строку, начинающуюся с последних 3 символов стркои 'Light ray', а заканчивающуюся подстрокой с 1го до 4го  символа строки."
   ]
  },
  {
   "cell_type": "code",
   "execution_count": 94,
   "metadata": {
    "collapsed": false
   },
   "outputs": [
    {
     "name": "stdout",
     "output_type": "stream",
     "text": [
      "yar ligh\n"
     ]
    }
   ],
   "source": [
    "n='light ray'\n",
    "a=n[0:4]\n",
    "b=n[::-1]\n",
    "g=b[0:3]\n",
    "print (g,a)"
   ]
  },
  {
   "cell_type": "markdown",
   "metadata": {},
   "source": [
    "17) Коротко записать создание строки 'oneoneoneoneoneonetwotwotwo'"
   ]
  },
  {
   "cell_type": "code",
   "execution_count": 53,
   "metadata": {
    "collapsed": false
   },
   "outputs": [
    {
     "data": {
      "text/plain": [
       "'oneoneoneoneoneonetwotwotwo'"
      ]
     },
     "execution_count": 53,
     "metadata": {},
     "output_type": "execute_result"
    }
   ],
   "source": [
    "n=6*'one'+3*'two'\n",
    "n"
   ]
  },
  {
   "cell_type": "markdown",
   "metadata": {},
   "source": [
    "18) Разбить строку на список из строк, состоящих только из названий чисел."
   ]
  },
  {
   "cell_type": "code",
   "execution_count": 3,
   "metadata": {
    "collapsed": false
   },
   "outputs": [
    {
     "data": {
      "text/plain": [
       "['one,two,three,four,five,six,seven,eight,nine,ten']"
      ]
     },
     "execution_count": 3,
     "metadata": {},
     "output_type": "execute_result"
    }
   ],
   "source": [
    "st = '  one,two,three,four,five,six,seven,eight,nine,ten   '\n",
    "st.split()"
   ]
  },
  {
   "cell_type": "markdown",
   "metadata": {},
   "source": [
    "19) Вставить между всеми символами строки 'Hello world' стрелочку '->' и сохранить результат в строковой переменной.\n",
    "\n",
    "Ожидаемый результат:"
   ]
  },
  {
   "cell_type": "raw",
   "metadata": {},
   "source": [
    "H->e->l->l->o-> ->w->o->r->l->d"
   ]
  },
  {
   "cell_type": "code",
   "execution_count": 10,
   "metadata": {
    "collapsed": false
   },
   "outputs": [
    {
     "name": "stdout",
     "output_type": "stream",
     "text": [
      "H->e->l->l->o-> ->w->o->r->l->d\n"
     ]
    }
   ],
   "source": [
    "af='Hello world'\n",
    "for i in af:\n",
    "    if i!='d':\n",
    "        print(i,  end=\"->\")\n",
    "    else :\n",
    "        print (i)"
   ]
  },
  {
   "cell_type": "markdown",
   "metadata": {},
   "source": [
    "20) Для двух произвольных строк провести сравнение на совпадение содержимого без учета регистра букв и начальных и конечных пробельных символов.\n",
    "\n",
    "Например, для двух строк"
   ]
  },
  {
   "cell_type": "code",
   "execution_count": 3,
   "metadata": {
    "collapsed": true
   },
   "outputs": [],
   "source": [
    "st1 = '  HeLLO WOrlD'"
   ]
  },
  {
   "cell_type": "code",
   "execution_count": 4,
   "metadata": {
    "collapsed": true
   },
   "outputs": [],
   "source": [
    "st2 = 'hello WORLD  '"
   ]
  },
  {
   "cell_type": "markdown",
   "metadata": {},
   "source": [
    "такое сравнение должно возвращать True (содержание строк совпадает)."
   ]
  },
  {
   "cell_type": "code",
   "execution_count": 24,
   "metadata": {
    "collapsed": false
   },
   "outputs": [
    {
     "name": "stdout",
     "output_type": "stream",
     "text": [
      "False\n"
     ]
    }
   ],
   "source": [
    "s1 = '  HeLLO WOrlD'\n",
    "s2 = 'hello WORLD  '\n",
    "if s1.split==s2.split:\n",
    "    print('True')\n",
    "else:\n",
    "    print('False')"
   ]
  },
  {
   "cell_type": "markdown",
   "metadata": {},
   "source": [
    "21) В строке 'hello hello Hello hello' найти индекс второго вхождения подстроки 'hel' "
   ]
  },
  {
   "cell_type": "code",
   "execution_count": 12,
   "metadata": {
    "collapsed": false
   },
   "outputs": [
    {
     "data": {
      "text/plain": [
       "6"
      ]
     },
     "execution_count": 12,
     "metadata": {},
     "output_type": "execute_result"
    }
   ],
   "source": [
    "sf='hello hello Hello hello'\n",
    "sf.index('hel',2)"
   ]
  },
  {
   "cell_type": "markdown",
   "metadata": {},
   "source": [
    "22) В строке 'hello hello Hello hello' найти индекс второго С КОНЦА вхождения подстроки 'hel'"
   ]
  },
  {
   "cell_type": "code",
   "execution_count": 15,
   "metadata": {
    "collapsed": false
   },
   "outputs": [
    {
     "data": {
      "text/plain": [
       "18"
      ]
     },
     "execution_count": 15,
     "metadata": {},
     "output_type": "execute_result"
    }
   ],
   "source": [
    "sf='hello hello Hello hello'\n",
    "sf.rfind('hel',2)"
   ]
  },
  {
   "cell_type": "markdown",
   "metadata": {},
   "source": [
    "23) Из заранее неизвестной строки вырезать подстроку, начинающуюся с 'he' и заканчивающееся 'on'. Протестировать на строке"
   ]
  },
  {
   "cell_type": "raw",
   "metadata": {},
   "source": [
    "    start hello python world"
   ]
  },
  {
   "cell_type": "markdown",
   "metadata": {},
   "source": [
    "24) Используя цикл for и функцию enumerate() (см. лекцию 2) вывести произвольную строку на экран и при этом убрать все пробелы и на их месте вывести номер слова по счету\n",
    "\n",
    "Пример.\n",
    "\n",
    "Исходная строка:"
   ]
  },
  {
   "cell_type": "raw",
   "metadata": {},
   "source": [
    "a= hello hello Hello hello\n",
    "for i in enumerate(a)\n",
    "print(i)\n"
   ]
  },
  {
   "cell_type": "code",
   "execution_count": 1,
   "metadata": {
    "collapsed": false
   },
   "outputs": [
    {
     "name": "stdout",
     "output_type": "stream",
     "text": [
      "(0, 'h')\n",
      "(1, 'e')\n",
      "(2, 'l')\n",
      "(3, 'l')\n",
      "(4, 'o')\n",
      "(5, ' ')\n",
      "(6, 'h')\n",
      "(7, 'e')\n",
      "(8, 'l')\n",
      "(9, 'l')\n",
      "(10, 'o')\n",
      "(11, ' ')\n",
      "(12, 'H')\n",
      "(13, 'e')\n",
      "(14, 'l')\n",
      "(15, 'l')\n",
      "(16, 'o')\n",
      "(17, ' ')\n",
      "(18, 'h')\n",
      "(19, 'e')\n",
      "(20, 'l')\n",
      "(21, 'l')\n",
      "(22, 'o')\n"
     ]
    }
   ],
   "source": [
    "a='hello hello Hello hello'\n",
    "for i in enumerate(a):\n",
    "          print(i)"
   ]
  },
  {
   "cell_type": "markdown",
   "metadata": {},
   "source": [
    "выведено на экран:"
   ]
  },
  {
   "cell_type": "raw",
   "metadata": {},
   "source": [
    "hello1hello2Hello3hello4"
   ]
  },
  {
   "cell_type": "markdown",
   "metadata": {},
   "source": [
    "25) Сформировать строку форматирования, которая для вызова"
   ]
  },
  {
   "cell_type": "raw",
   "metadata": {},
   "source": [
    "format('val1', 'val2', 'val3')"
   ]
  },
  {
   "cell_type": "markdown",
   "metadata": {},
   "source": [
    "будет возрващать следующий результат:"
   ]
  },
  {
   "cell_type": "raw",
   "metadata": {},
   "source": [
    "val3-val2-val1-val2-val3"
   ]
  },
  {
   "cell_type": "code",
   "execution_count": 2,
   "metadata": {
    "collapsed": false
   },
   "outputs": [
    {
     "name": "stdout",
     "output_type": "stream",
     "text": [
      "val3-val2-val1-val2-val3\n"
     ]
    }
   ],
   "source": [
    "print( 'val3','val2', 'val1',  'val2','val3',sep='-')"
   ]
  },
  {
   "cell_type": "markdown",
   "metadata": {},
   "source": [
    "26) Сформировать строку форматирования fs, которая при использовании в нижеследующем коде приводит к формированию таблицы, выведенной в следующей ячейке."
   ]
  },
  {
   "cell_type": "code",
   "execution_count": 8,
   "metadata": {
    "collapsed": false
   },
   "outputs": [
    {
     "name": "stdout",
     "output_type": "stream",
     "text": [
      "0123456789012345678901234567890123456789\n",
      "\n",
      "\n",
      "\n",
      "\n"
     ]
    }
   ],
   "source": [
    "print('0123456789' * 4)\n",
    "fs = '' # задайте тут свою строку форматирования\n",
    "print(fs.format(453, 59.058, 1, line=1))\n",
    "print(fs.format(123453, 159.0, 7, line=5))\n",
    "print(fs.format(-12, -159.099, 16, line=15))\n",
    "print(fs.format(1200, -1059.099, 255, line=105))"
   ]
  },
  {
   "cell_type": "code",
   "execution_count": 6,
   "metadata": {
    "collapsed": false,
    "scrolled": true
   },
   "outputs": [
    {
     "name": "stdout",
     "output_type": "stream",
     "text": [
      "\n",
      "0123456789012345678901234567890123456789\n",
      "|   1 | ###59.06|      453 | 00000001 |\n",
      "|   5 | ##159.00|  123,453 | 00000111 |\n",
      "|  15 | #-159.10| -     12 | 00010000 |\n",
      "| 105 | -1059.10|    1,200 | 11111111 |\n",
      "\n"
     ]
    }
   ],
   "source": [
    "print(\"\"\"\n",
    "0123456789012345678901234567890123456789\n",
    "|   1 | ###59.06|      453 | 00000001 |\n",
    "|   5 | ##159.00|  123,453 | 00000111 |\n",
    "|  15 | #-159.10| -     12 | 00010000 |\n",
    "| 105 | -1059.10|    1,200 | 11111111 |\n",
    "\"\"\")"
   ]
  }
 ],
 "metadata": {
  "anaconda-cloud": {},
  "kernelspec": {
   "display_name": "Python 3",
   "language": "python",
   "name": "python3"
  },
  "language_info": {
   "codemirror_mode": {
    "name": "ipython",
    "version": 3
   },
   "file_extension": ".py",
   "mimetype": "text/x-python",
   "name": "python",
   "nbconvert_exporter": "python",
   "pygments_lexer": "ipython3",
   "version": "3.5.1"
  }
 },
 "nbformat": 4,
 "nbformat_minor": 1
}
